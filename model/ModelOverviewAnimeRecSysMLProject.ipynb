{
  "cells": [
    {
      "cell_type": "markdown",
      "metadata": {
        "id": "kec9hl22WfSw"
      },
      "source": [
        "# Alternate Least Squares Model for Anime Recomendations"
      ]
    },
    {
      "cell_type": "markdown",
      "metadata": {},
      "source": [
        "## Creating the model"
      ]
    },
    {
      "cell_type": "markdown",
      "metadata": {},
      "source": [
        "### Importing basic libraries"
      ]
    },
    {
      "cell_type": "code",
      "execution_count": 44,
      "metadata": {
        "colab": {
          "base_uri": "https://localhost:8080/"
        },
        "id": "mqKMcTUXWq_n",
        "outputId": "39ef8423-0add-47d9-ffc3-777f80e5bb09"
      },
      "outputs": [],
      "source": [
        "import pandas as pd\n",
        "import numpy as np\n",
        "from scipy.sparse import coo_matrix\n",
        "from implicit.als import AlternatingLeastSquares\n",
        "from threadpoolctl import threadpool_limits\n",
        "import os"
      ]
    },
    {
      "cell_type": "markdown",
      "metadata": {
        "id": "qr8tXay4Wwxt"
      },
      "source": [
        "### Getting data\n",
        "\n",
        "We need to get data from provided databases and format it so we can make the matrix and factorize it later. Getting rid of watched but not rated entires in the ratings table (there is no point in keeping unrated data, this way we reset it to unrated instead of having it misinterpreted as rated 0), as well as rows with missing data from the anime table.\n",
        "\n",
        "Source of the data: [link](https://www.kaggle.com/datasets/CooperUnion/anime-recommendations-database)"
      ]
    },
    {
      "cell_type": "code",
      "execution_count": 48,
      "metadata": {
        "colab": {
          "base_uri": "https://localhost:8080/",
          "height": 356
        },
        "id": "rCtnwZoCfQho",
        "outputId": "22652c19-c61c-4cae-b00d-1fcd2e62afd4"
      },
      "outputs": [],
      "source": [
        "# Load and prepare data\n",
        "file_path = \"./../data\"\n",
        "anime = pd.read_csv(file_path + \"/anime.csv\")\n",
        "ratings = pd.read_csv(file_path + \"/rating.csv\")\n",
        "\n",
        "# Clean data\n",
        "anime = anime.dropna(subset=[\"genre\", \"rating\"])\n",
        "ratings = ratings.dropna(subset=[\"anime_id\", \"user_id\"])\n",
        "anime = anime.dropna(subset=[\"anime_id\"])\n",
        "ratings = ratings[ratings[\"rating\"] != -1]\n",
        "\n",
        "# Ensure we only include anime_ids that exist in the anime dataset\n",
        "valid_anime_ids = set(anime[\"anime_id\"].unique())\n",
        "ratings = ratings[ratings[\"anime_id\"].isin(valid_anime_ids)]"
      ]
    },
    {
      "cell_type": "markdown",
      "metadata": {
        "id": "msXUgNVQfSfq"
      },
      "source": [
        "### Format data for the model\n",
        "More data related stuff. Creating mappings between indexes and ids. then makig sure there are no missing indexes by dropping it. There is so much data that deleting stuff makes little difference. We still end up with a big data set at the end"
      ]
    },
    {
      "cell_type": "code",
      "execution_count": 49,
      "metadata": {
        "id": "r_Ct0gqWhGGk"
      },
      "outputs": [
        {
          "name": "stdout",
          "output_type": "stream",
          "text": [
            "Validation checks:\n",
            "All anime IDs valid: True\n",
            "All user IDs valid: True\n",
            "Number of unique anime: 12017\n",
            "Number of unique users: 69600\n"
          ]
        }
      ],
      "source": [
        "# Create mappings\n",
        "anime_id_to_index = {anime_id: idx for idx,\n",
        "                     anime_id in enumerate(sorted(valid_anime_ids))}\n",
        "user_id_to_index = {user_id: idx for idx,\n",
        "                    user_id in enumerate(sorted(ratings[\"user_id\"].unique()))}\n",
        "\n",
        "# Create reverse mappings\n",
        "index_to_anime_id = {idx: anime_id for anime_id,\n",
        "                     idx in anime_id_to_index.items()}\n",
        "index_to_user_id = {idx: user_id for user_id, idx in user_id_to_index.items()}\n",
        "\n",
        "\n",
        "# Add index mappings to ratings\n",
        "ratings[\"anime_idx\"] = ratings[\"anime_id\"].map(anime_id_to_index)\n",
        "ratings[\"user_idx\"] = ratings[\"user_id\"].map(user_id_to_index)\n",
        "ratings = ratings.dropna(subset=[\"anime_idx\", \"user_idx\"])\n",
        "\n",
        "# Validate mappings\n",
        "print(\"Validation checks:\")\n",
        "print(\"All anime IDs valid:\", ratings['anime_id'].isin(\n",
        "    anime_id_to_index.keys()).all())\n",
        "print(\"All user IDs valid:\", ratings['user_id'].isin(\n",
        "    user_id_to_index.keys()).all())\n",
        "print(\"Number of unique anime:\", len(anime_id_to_index))\n",
        "print(\"Number of unique users:\", len(user_id_to_index))"
      ]
    },
    {
      "cell_type": "markdown",
      "metadata": {
        "id": "rc9nswjphLgb"
      },
      "source": [
        "### Matrix creation\n",
        "\n",
        "Creating matrix in a user x anime format filling it with existing ratings and leaving all the other spaces empty, making it a sparse matrix (mostly empty). Then we will convert it to CSR format and apply confidence weighing (both will be explained below)."
      ]
    },
    {
      "cell_type": "code",
      "execution_count": 50,
      "metadata": {
        "id": "kWoUpO-nimtw"
      },
      "outputs": [
        {
          "name": "stdout",
          "output_type": "stream",
          "text": [
            "Interaction Matrix Shape: (69600, 12017)\n"
          ]
        }
      ],
      "source": [
        "# Create sparse matrix of user-anime interactions\n",
        "interaction_matrix = coo_matrix(\n",
        "    (ratings[\"rating\"], (ratings[\"user_idx\"], ratings[\"anime_idx\"])),\n",
        "    shape=(len(user_id_to_index), len(anime_id_to_index)),\n",
        ").tocsr()\n",
        "\n",
        "print(\"Interaction Matrix Shape:\", interaction_matrix.shape)\n",
        "\n",
        "# Apply confidence weighting\n",
        "interaction_matrix.data = 1 + np.log1p(interaction_matrix.data)"
      ]
    },
    {
      "cell_type": "markdown",
      "metadata": {},
      "source": [
        "### CSR (compressed sparse row) format and confidence weighting\n",
        "CSR makes the row access and matrix-vector multiplications faster. Attaching an example from Wikipedia as it is great at illustarting the concept.\n",
        "\n",
        "![image.png](data:image/png;base64,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) ![image.png](data:image/png;base64,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)\n",
        "\n",
        "\n",
        "Applying logarythmic confidence weighting to our data helps with accuracy of the model and adds more confidence into rating values."
      ]
    },
    {
      "cell_type": "markdown",
      "metadata": {
        "id": "abrSh05UqAUn"
      },
      "source": [
        "## Training model\n",
        "\n",
        "At the end we feed our prepared matrix to an ALS (alternating least squares) algorithm. Basic idea of matrix factorization with ALS algorithm is we take the interaction matrix and split it into two matrices both with the same amout of features (in our case we would split it into user and anime). We dont control what the features are, it is the machine learning magic. Next based on those two smaller matrices when we want to get info from an empty value in the main matrix, we perform simple vertex multiplication between the proper user vector and anime vector. If we want to find the best recommendations for a certain user we simply multiply that users vector by the whole anime matrix to fill in the squares and then pick the best values from the new data.\n",
        "But how do we actually find the two matrices? That's what ALS is for. ALS works by alternating between two steps:\n",
        "1. fixing 1st matrix and predicting the 2nd one\n",
        "2. fixing 2nd matrix and predicting the 1st one\n",
        "\n",
        "After a set number of iterations we get a proper set of matrices that we will use to help us predict empty squares."
      ]
    },
    {
      "cell_type": "code",
      "execution_count": 51,
      "metadata": {
        "id": "Kx3Z98cbWVvM"
      },
      "outputs": [
        {
          "name": "stderr",
          "output_type": "stream",
          "text": [
            "100%|██████████| 15/15 [00:09<00:00,  1.52it/s]"
          ]
        },
        {
          "name": "stdout",
          "output_type": "stream",
          "text": [
            "ALS model training completed!\n"
          ]
        },
        {
          "name": "stderr",
          "output_type": "stream",
          "text": [
            "\n"
          ]
        }
      ],
      "source": [
        "# Limit OpenBLAS threads for performance\n",
        "os.environ[\"OPENBLAS_NUM_THREADS\"] = \"1\"\n",
        "\n",
        "with threadpool_limits(limits=1, user_api=\"blas\"):\n",
        "    model = AlternatingLeastSquares(\n",
        "        factors=50, regularization=0.01, iterations=15)\n",
        "    model.fit(interaction_matrix)\n",
        "\n",
        "print(\"ALS model training completed!\")"
      ]
    },
    {
      "cell_type": "markdown",
      "metadata": {},
      "source": [
        "## Using the model"
      ]
    },
    {
      "cell_type": "markdown",
      "metadata": {},
      "source": [
        "### Define the function to recommend"
      ]
    },
    {
      "cell_type": "code",
      "execution_count": 52,
      "metadata": {},
      "outputs": [],
      "source": [
        "def recommend_anime(user_id, model, interaction_matrix, anime_df, n_recommendations=10):\n",
        "    \"\"\"\n",
        "    Generate anime recommendations for a specific user.\n",
        "\n",
        "    Parameters:\n",
        "    -----------\n",
        "    user_id : int\n",
        "        The ID of the user to generate recommendations for\n",
        "    model : AlternatingLeastSquares\n",
        "        Trained ALS model\n",
        "    interaction_matrix : scipy.sparse.csr_matrix\n",
        "        User-anime interaction matrix in CSR format\n",
        "    anime_df : pandas.DataFrame\n",
        "        DataFrame containing anime metadata\n",
        "    n_recommendations : int\n",
        "        Number of recommendations to generate\n",
        "\n",
        "    Returns:\n",
        "    --------\n",
        "    pandas.DataFrame\n",
        "        DataFrame containing recommended anime with their metadata and scores\n",
        "    \"\"\"\n",
        "    try:\n",
        "        # Convert user_id to internal user index\n",
        "        if user_id not in user_id_to_index:\n",
        "            raise KeyError(f\"User ID {user_id} not found in training data\")\n",
        "        \n",
        "        user_idx = user_id_to_index[user_id]\n",
        "\n",
        "        # Get user recommendations\n",
        "        user_items = interaction_matrix[user_idx]\n",
        "        \n",
        "        # Get recommendations\n",
        "        ids, scores = model.recommend(\n",
        "            user_idx,\n",
        "            user_items,\n",
        "            N=n_recommendations,\n",
        "            filter_already_liked_items=True,\n",
        "            recalculate_user=True\n",
        "        )\n",
        "\n",
        "        # Map anime indices back to anime_ids\n",
        "        recommended_anime_ids = [index_to_anime_id[idx] for idx in ids]\n",
        "\n",
        "        # Get recommended anime details\n",
        "        recommended_anime = anime_df[anime_df['anime_id'].isin(recommended_anime_ids)].copy()\n",
        "\n",
        "        # Add recommendation scores\n",
        "        score_dict = dict(zip(recommended_anime_ids, scores))\n",
        "        recommended_anime['score'] = recommended_anime['anime_id'].map(score_dict)\n",
        "\n",
        "        # Sort by score and select relevant columns\n",
        "        result = recommended_anime[['name', 'genre', 'type', 'rating', 'score']].sort_values(\n",
        "            by='score', ascending=False\n",
        "        )\n",
        "\n",
        "        return result\n",
        "\n",
        "    except KeyError as e:\n",
        "        print(f\"Error: {str(e)}\")\n",
        "        return pd.DataFrame()\n",
        "    except Exception as e:\n",
        "        print(f\"Unexpected error: {str(e)}\")\n",
        "        return pd.DataFrame()"
      ]
    },
    {
      "cell_type": "markdown",
      "metadata": {},
      "source": [
        "### Using the function"
      ]
    },
    {
      "cell_type": "code",
      "execution_count": 55,
      "metadata": {},
      "outputs": [
        {
          "name": "stdout",
          "output_type": "stream",
          "text": [
            "\n",
            "Recommendations for User 1:\n",
            "                                              name  \\\n",
            "86                              Shingeki no Kyojin   \n",
            "445                               Mirai Nikki (TV)   \n",
            "159                                   Angel Beats!   \n",
            "702                                        Another   \n",
            "40                                      Death Note   \n",
            "2132                           Sword Art Online II   \n",
            "118                                No Game No Life   \n",
            "760                                     Elfen Lied   \n",
            "288                                     Fairy Tail   \n",
            "4240  Highschool of the Dead: Drifters of the Dead   \n",
            "\n",
            "                                                  genre type  rating     score  \n",
            "86         Action, Drama, Fantasy, Shounen, Super Power   TV    8.54  0.430095  \n",
            "445   Action, Mystery, Psychological, Shounen, Super...   TV    8.07  0.359986  \n",
            "159         Action, Comedy, Drama, School, Supernatural   TV    8.39  0.337136  \n",
            "702     Horror, Mystery, School, Supernatural, Thriller   TV    7.88  0.260032  \n",
            "40    Mystery, Police, Psychological, Supernatural, ...   TV    8.71  0.259747  \n",
            "2132          Action, Adventure, Fantasy, Game, Romance   TV    7.35  0.246044  \n",
            "118   Adventure, Comedy, Ecchi, Fantasy, Game, Super...   TV    8.47  0.243692  \n",
            "760   Action, Drama, Horror, Psychological, Romance,...   TV    7.85  0.238934  \n",
            "288   Action, Adventure, Comedy, Fantasy, Magic, Sho...   TV    8.22  0.233539  \n",
            "4240                        Comedy, Ecchi, Supernatural  OVA    6.77  0.225319  \n"
          ]
        }
      ],
      "source": [
        "test_user_id = 1\n",
        "recommendations = recommend_anime(test_user_id, model, interaction_matrix, anime)\n",
        "\n",
        "if not recommendations.empty:\n",
        "    print(f\"\\nRecommendations for User {test_user_id}:\")\n",
        "    print(recommendations)\n",
        "else:\n",
        "    print(f\"\\nNo recommendations available for User {test_user_id}\")"
      ]
    }
  ],
  "metadata": {
    "colab": {
      "provenance": []
    },
    "kernelspec": {
      "display_name": "Python 3",
      "name": "python3"
    },
    "language_info": {
      "codemirror_mode": {
        "name": "ipython",
        "version": 3
      },
      "file_extension": ".py",
      "mimetype": "text/x-python",
      "name": "python",
      "nbconvert_exporter": "python",
      "pygments_lexer": "ipython3",
      "version": "3.10.10"
    }
  },
  "nbformat": 4,
  "nbformat_minor": 0
}
